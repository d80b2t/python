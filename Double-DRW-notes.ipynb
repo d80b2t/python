{
 "cells": [
  {
   "cell_type": "markdown",
   "metadata": {},
   "source": [
    "### Double DRW notes\n",
    "\n",
    "#### XUV and optical\n",
    "\n",
    "We start by supposing there are two mechanisms for making optical emission. First, ignore variations and consider the steady state.\n",
    "\n",
    "The first component is from local viscous heating in the disc.  Suppose this makes luminosity $L_{vis}$. \n",
    "\n",
    "The second component is secondary emission related to the XUV emission. (Carefully being vague about whether we are talking about the X-rays, the EUV, or whatever - just some driving energy...) Suppose in steady state $L_{XUV}=aL_{opt}$. However the related optical emission is only a fraction of this. It could be due to the XUV heating the disc; or it could be a distinct XUV component, which has a tail in the optical region. For convenience we will just think of this as \"reprocessing\", so we have $L_{rep}= bL_{XUV}$. Then combining $ab=c$ we have \n",
    "\n",
    "$$L_{rep}=cL_{vis}$$\n",
    "\n",
    "#### Fluctuations in luminosity\n",
    "\n",
    "Now we assume that either of these luminosities can be subject to a damped random walk (DRW). The way to think about this is to start by defining a *normalised DRW* i.e. one for which the mean value is 1.0, and the random walk fluctuates about this starting point above and below 1.0. This can be defined by timescale $\\tau$ as normal, and by an amplitude $A$ which is also in normalised units - so a DRW with 30% fluctuations has $A=0.3$ \n",
    "\n",
    "If such a normalised DRW is used to generate a time series $R(t)$, then with baseline luminosity $L$ we make a light curve \n",
    "\n",
    "$$L(t)=L \\times R(t)$$\n",
    "\n",
    "We could define two such normalised DRWs  - a slow one with perhaps $\\tau_1=300$ days and a fast one with say $\\tau_2=30$ days. Both have the same amplitude $A$. We can apply these to the two components of optical luminosity, so that\n",
    "\n",
    "$$L_1(t)=L_{vis} R_1(t) {\\rm \\quad and\\quad} L_2=L_{rep} R_2(t) = cL_{vis} R_2(t)$$.\n",
    "\n",
    "\n",
    "#### Independent components\n",
    "\n",
    "What the net result is depends on whether $L_{vis}$ and $L_{XUV}$ are coupled or not. First suppose that the fluctuations in $L_{vis}$ and $L_{XUV}$ are completely independent. Then the net luminosity is obtained simply by adding.\n",
    "\n",
    "$$L(t) = L_1(t) + L_2(t) = L_{vis} \\left[ R_1(t) + c R_2(t) \\right] $$\n",
    "\n",
    "Assuming $c$ is a smallish number, this is equivalent to the method Chelsea first used, adding two DRWs, one with a smaller amplitude than the other.\n",
    "\n",
    "#### Coupled components.\n",
    "\n",
    "Now we assume that the $XUV$ tracks the optical, so the fast variations are not with respect to a fixed value of $L_{rep}$, but with respect to a slowly changing mean. So as before we have $L_1(t) = L_{vis} R_1(t)$ but now we have to think of $L_{rep}$ already being a function of time following the slow variations, i.e. \n",
    "\n",
    "$$L_{rep}(t) = c L_1(t) = c L_{vis} R_1(t) $$\n",
    "\n",
    "Now we can apply the fast variations on top of those slow variations\n",
    "\n",
    "$$L_2(t) = L_{rep}(t)  R_2(t) = c L_{vis} R_1(t) R_2(t) $$\n",
    "\n",
    "Now we can once again add the two components $L(t)=L_1(t)+L_2(t)$\n",
    "\n",
    "$$L(t) = L_{vis} \\left[ R_1(t) + c R_1(t) R_2(t) \\right] $$\n"
   ]
  },
  {
   "cell_type": "code",
   "execution_count": null,
   "metadata": {
    "collapsed": true
   },
   "outputs": [],
   "source": []
  }
 ],
 "metadata": {
  "kernelspec": {
   "display_name": "Python 2",
   "language": "python",
   "name": "python2"
  },
  "language_info": {
   "codemirror_mode": {
    "name": "ipython",
    "version": 2
   },
   "file_extension": ".py",
   "mimetype": "text/x-python",
   "name": "python",
   "nbconvert_exporter": "python",
   "pygments_lexer": "ipython2",
   "version": "2.7.6"
  }
 },
 "nbformat": 4,
 "nbformat_minor": 0
}
