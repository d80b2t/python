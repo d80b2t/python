{
 "cells": [
  {
   "cell_type": "markdown",
   "metadata": {},
   "source": [
    "Data from: \n"
   ]
  },
  {
   "cell_type": "markdown",
   "metadata": {},
   "source": [
    "https://en.wikipedia.org/wiki/1972%E2%80%9373_Hibernian_F.C._season"
   ]
  },
  {
   "cell_type": "markdown",
   "metadata": {},
   "source": [
    "http://www.fitbastats.com/hibs/club_records_league_attendance.php"
   ]
  },
  {
   "cell_type": "code",
   "execution_count": 34,
   "metadata": {
    "collapsed": true
   },
   "outputs": [],
   "source": [
    "import pandas as pd\n",
    "import matplotlib as plt\n",
    "import numpy as np"
   ]
  },
  {
   "cell_type": "code",
   "execution_count": 37,
   "metadata": {},
   "outputs": [],
   "source": [
    "atten = pd.read_csv('/cos_pc19a_npr/data/Hibs/Hibs_LeagueGame_Attendences_1972_73_Home.csv')"
   ]
  },
  {
   "cell_type": "code",
   "execution_count": 38,
   "metadata": {},
   "outputs": [
    {
     "data": {
      "text/html": [
       "<div>\n",
       "<table border=\"1\" class=\"dataframe\">\n",
       "  <thead>\n",
       "    <tr style=\"text-align: right;\">\n",
       "      <th></th>\n",
       "      <th></th>\n",
       "      <th></th>\n",
       "      <th></th>\n",
       "      <th></th>\n",
       "      <th>no\tdate\tteam\ter\tscore\tgate</th>\n",
       "    </tr>\n",
       "  </thead>\n",
       "  <tbody>\n",
       "    <tr>\n",
       "      <th>2</th>\n",
       "      <th>09September</th>\n",
       "      <th>Heart of Midlothian</th>\n",
       "      <th>H</th>\n",
       "      <th>2–0</th>\n",
       "      <td>21221</td>\n",
       "    </tr>\n",
       "    <tr>\n",
       "      <th>4</th>\n",
       "      <th>23September</th>\n",
       "      <th>Dundee United</th>\n",
       "      <th>H</th>\n",
       "      <th>3–1</th>\n",
       "      <td>10372</td>\n",
       "    </tr>\n",
       "    <tr>\n",
       "      <th>5</th>\n",
       "      <th>30September</th>\n",
       "      <th>St Johnstone</th>\n",
       "      <th>H</th>\n",
       "      <th>3–2</th>\n",
       "      <td>10376</td>\n",
       "    </tr>\n",
       "    <tr>\n",
       "      <th>7</th>\n",
       "      <th>14October</th>\n",
       "      <th>Airdrieonians</th>\n",
       "      <th>H</th>\n",
       "      <th>5–2</th>\n",
       "      <td>9989</td>\n",
       "    </tr>\n",
       "    <tr>\n",
       "      <th>10</th>\n",
       "      <th>04November</th>\n",
       "      <th>Kilmarnock</th>\n",
       "      <th>H</th>\n",
       "      <th>1–1</th>\n",
       "      <td>11172</td>\n",
       "    </tr>\n",
       "    <tr>\n",
       "      <th>12</th>\n",
       "      <th>18November</th>\n",
       "      <th>Rangers</th>\n",
       "      <th>H</th>\n",
       "      <th>1–2</th>\n",
       "      <td>33356</td>\n",
       "    </tr>\n",
       "    <tr>\n",
       "      <th rowspan=\"2\" valign=\"top\">14</th>\n",
       "      <th>02December</th>\n",
       "      <th>Falkirk</th>\n",
       "      <th>H</th>\n",
       "      <th>3–0</th>\n",
       "      <td>10606</td>\n",
       "    </tr>\n",
       "    <tr>\n",
       "      <th>16December</th>\n",
       "      <th>Ayr United</th>\n",
       "      <th>H</th>\n",
       "      <th>8–1</th>\n",
       "      <td>12510</td>\n",
       "    </tr>\n",
       "    <tr>\n",
       "      <th>17</th>\n",
       "      <th>30December</th>\n",
       "      <th>Aberdeen</th>\n",
       "      <th>H</th>\n",
       "      <th>3–2</th>\n",
       "      <td>22229</td>\n",
       "    </tr>\n",
       "    <tr>\n",
       "      <th>19</th>\n",
       "      <th>06January</th>\n",
       "      <th>East Fife</th>\n",
       "      <th>H</th>\n",
       "      <th>1–0</th>\n",
       "      <td>17068</td>\n",
       "    </tr>\n",
       "    <tr>\n",
       "      <th>21</th>\n",
       "      <th>27January</th>\n",
       "      <th>Dundee</th>\n",
       "      <th>H</th>\n",
       "      <th>1-1</th>\n",
       "      <td>15896</td>\n",
       "    </tr>\n",
       "    <tr>\n",
       "      <th>24</th>\n",
       "      <th>03March</th>\n",
       "      <th>Dumbarton</th>\n",
       "      <th>H</th>\n",
       "      <th>5–0</th>\n",
       "      <td>12417</td>\n",
       "    </tr>\n",
       "    <tr>\n",
       "      <th>26</th>\n",
       "      <th>13March</th>\n",
       "      <th>Partick Thistle</th>\n",
       "      <th>H</th>\n",
       "      <th>2–0</th>\n",
       "      <td>13427</td>\n",
       "    </tr>\n",
       "    <tr>\n",
       "      <th>27</th>\n",
       "      <th>17March</th>\n",
       "      <th>Morton</th>\n",
       "      <th>H</th>\n",
       "      <th>2–1</th>\n",
       "      <td>11690</td>\n",
       "    </tr>\n",
       "    <tr>\n",
       "      <th>29</th>\n",
       "      <th>31March</th>\n",
       "      <th>Arbroath</th>\n",
       "      <th>H</th>\n",
       "      <th>0–0</th>\n",
       "      <td>7344</td>\n",
       "    </tr>\n",
       "    <tr>\n",
       "      <th>32</th>\n",
       "      <th>14April</th>\n",
       "      <th>Motherwell</th>\n",
       "      <th>H</th>\n",
       "      <th>0–1</th>\n",
       "      <td>8576</td>\n",
       "    </tr>\n",
       "    <tr>\n",
       "      <th>34</th>\n",
       "      <th>28April</th>\n",
       "      <th>Celtic</th>\n",
       "      <th>H</th>\n",
       "      <th>0–3</th>\n",
       "      <td>45443</td>\n",
       "    </tr>\n",
       "  </tbody>\n",
       "</table>\n",
       "</div>"
      ],
      "text/plain": [
       "                                          no\\tdate\\tteam\\ter\\tscore\\tgate\n",
       "2  09September Heart of Midlothian H 2–0                            21221\n",
       "4  23September Dundee United       H 3–1                            10372\n",
       "5  30September St Johnstone        H 3–2                            10376\n",
       "7  14October   Airdrieonians       H 5–2                             9989\n",
       "10 04November  Kilmarnock          H 1–1                            11172\n",
       "12 18November  Rangers             H 1–2                            33356\n",
       "14 02December  Falkirk             H 3–0                            10606\n",
       "   16December  Ayr United          H 8–1                            12510\n",
       "17 30December  Aberdeen            H 3–2                            22229\n",
       "19 06January   East Fife           H 1–0                            17068\n",
       "21 27January   Dundee              H 1-1                            15896\n",
       "24 03March     Dumbarton           H 5–0                            12417\n",
       "26 13March     Partick Thistle     H 2–0                            13427\n",
       "27 17March     Morton              H 2–1                            11690\n",
       "29 31March     Arbroath            H 0–0                             7344\n",
       "32 14April     Motherwell          H 0–1                             8576\n",
       "34 28April     Celtic              H 0–3                            45443"
      ]
     },
     "execution_count": 38,
     "metadata": {},
     "output_type": "execute_result"
    }
   ],
   "source": [
    "atten"
   ]
  },
  {
   "cell_type": "code",
   "execution_count": 39,
   "metadata": {},
   "outputs": [
    {
     "data": {
      "text/html": [
       "<div>\n",
       "<table border=\"1\" class=\"dataframe\">\n",
       "  <thead>\n",
       "    <tr style=\"text-align: right;\">\n",
       "      <th></th>\n",
       "      <th>no\tdate\tteam\ter\tscore\tgate</th>\n",
       "    </tr>\n",
       "  </thead>\n",
       "  <tbody>\n",
       "    <tr>\n",
       "      <th>count</th>\n",
       "      <td>17.000000</td>\n",
       "    </tr>\n",
       "    <tr>\n",
       "      <th>mean</th>\n",
       "      <td>16099.529412</td>\n",
       "    </tr>\n",
       "    <tr>\n",
       "      <th>std</th>\n",
       "      <td>9897.160370</td>\n",
       "    </tr>\n",
       "    <tr>\n",
       "      <th>min</th>\n",
       "      <td>7344.000000</td>\n",
       "    </tr>\n",
       "    <tr>\n",
       "      <th>25%</th>\n",
       "      <td>10376.000000</td>\n",
       "    </tr>\n",
       "    <tr>\n",
       "      <th>50%</th>\n",
       "      <td>12417.000000</td>\n",
       "    </tr>\n",
       "    <tr>\n",
       "      <th>75%</th>\n",
       "      <td>17068.000000</td>\n",
       "    </tr>\n",
       "    <tr>\n",
       "      <th>max</th>\n",
       "      <td>45443.000000</td>\n",
       "    </tr>\n",
       "  </tbody>\n",
       "</table>\n",
       "</div>"
      ],
      "text/plain": [
       "       no\\tdate\\tteam\\ter\\tscore\\tgate\n",
       "count                        17.000000\n",
       "mean                      16099.529412\n",
       "std                        9897.160370\n",
       "min                        7344.000000\n",
       "25%                       10376.000000\n",
       "50%                       12417.000000\n",
       "75%                       17068.000000\n",
       "max                       45443.000000"
      ]
     },
     "execution_count": 39,
     "metadata": {},
     "output_type": "execute_result"
    }
   ],
   "source": [
    "atten.describe()"
   ]
  },
  {
   "cell_type": "code",
   "execution_count": null,
   "metadata": {
    "collapsed": true
   },
   "outputs": [],
   "source": []
  },
  {
   "cell_type": "code",
   "execution_count": null,
   "metadata": {
    "collapsed": true
   },
   "outputs": [],
   "source": []
  }
 ],
 "metadata": {
  "anaconda-cloud": {},
  "kernelspec": {
   "display_name": "Python [default]",
   "language": "python",
   "name": "python3"
  },
  "language_info": {
   "codemirror_mode": {
    "name": "ipython",
    "version": 3
   },
   "file_extension": ".py",
   "mimetype": "text/x-python",
   "name": "python",
   "nbconvert_exporter": "python",
   "pygments_lexer": "ipython3",
   "version": "3.5.2"
  }
 },
 "nbformat": 4,
 "nbformat_minor": 2
}
