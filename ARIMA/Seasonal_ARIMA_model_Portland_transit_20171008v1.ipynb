{
 "cells": [
  {
   "cell_type": "markdown",
   "metadata": {},
   "source": [
    "https://github.com/seanabu/seanabu.github.io/blob/master/Seasonal_ARIMA_model_Portland_transit.ipynb"
   ]
  },
  {
   "cell_type": "code",
   "execution_count": 10,
   "metadata": {},
   "outputs": [],
   "source": [
    "%matplotlib inline\n",
    "import pandas as pd\n",
    "import numpy as np\n",
    "import matplotlib.pyplot as plt\n",
    "import datetime\n",
    "from dateutil.relativedelta import relativedelta\n",
    "import seaborn as sns\n",
    "import statsmodels.api as sm  \n",
    "from statsmodels.tsa.stattools import acf  \n",
    "from statsmodels.tsa.stattools import pacf\n",
    "from statsmodels.tsa.seasonal import seasonal_decompose"
   ]
  },
  {
   "cell_type": "code",
   "execution_count": 11,
   "metadata": {
    "collapsed": true
   },
   "outputs": [],
   "source": [
    "df = pd.read_csv('portland-oregon-average-monthly-.csv', index_col=0)\n",
    "df.index.name=None\n",
    "df.reset_index(inplace=True)\n",
    "#df.drop(df.index[114], inplace=True)"
   ]
  },
  {
   "cell_type": "code",
   "execution_count": 12,
   "metadata": {},
   "outputs": [
    {
     "data": {
      "text/plain": [
       "(     index  \\\n",
       " 0  1960-01   \n",
       " 1  1960-02   \n",
       " 2  1960-03   \n",
       " 3  1960-04   \n",
       " 4  1960-05   \n",
       " \n",
       "    Portland Oregon average monthly bus ridership (/100) January 1973 through June 1982, n=114  \n",
       " 0                                                648                                           \n",
       " 1                                                646                                           \n",
       " 2                                                639                                           \n",
       " 3                                                654                                           \n",
       " 4                                                630                                           ,\n",
       "        index  \\\n",
       " 109  1969-02   \n",
       " 110  1969-03   \n",
       " 111  1969-04   \n",
       " 112  1969-05   \n",
       " 113  1969-06   \n",
       " \n",
       "      Portland Oregon average monthly bus ridership (/100) January 1973 through June 1982, n=114  \n",
       " 109                                               1425                                           \n",
       " 110                                               1419                                           \n",
       " 111                                               1432                                           \n",
       " 112                                               1394                                           \n",
       " 113                                               1327                                           )"
      ]
     },
     "execution_count": 12,
     "metadata": {},
     "output_type": "execute_result"
    }
   ],
   "source": [
    "df.head(), df.tail()"
   ]
  },
  {
   "cell_type": "code",
   "execution_count": 13,
   "metadata": {
    "collapsed": true
   },
   "outputs": [],
   "source": [
    "start = datetime.datetime.strptime(\"1973-01-01\", \"%Y-%m-%d\")\n",
    "date_list = [start + relativedelta(months=x) for x in range(0,114)]\n",
    "df['index'] =date_list\n",
    "df.set_index(['index'], inplace=True)\n",
    "df.index.name=None"
   ]
  },
  {
   "cell_type": "code",
   "execution_count": 14,
   "metadata": {},
   "outputs": [
    {
     "name": "stdout",
     "output_type": "stream",
     "text": [
      "Index(['Portland Oregon average monthly bus ridership (/100) January 1973 through June 1982, n=114'], dtype='object')\n",
      "Index(['riders'], dtype='object')\n"
     ]
    }
   ],
   "source": [
    "print(df.columns)\n",
    "df.columns= ['riders']\n",
    "print(df.columns)\n"
   ]
  },
  {
   "cell_type": "code",
   "execution_count": 17,
   "metadata": {},
   "outputs": [
    {
     "data": {
      "text/html": [
       "<div>\n",
       "<style>\n",
       "    .dataframe thead tr:only-child th {\n",
       "        text-align: right;\n",
       "    }\n",
       "\n",
       "    .dataframe thead th {\n",
       "        text-align: left;\n",
       "    }\n",
       "\n",
       "    .dataframe tbody tr th {\n",
       "        vertical-align: top;\n",
       "    }\n",
       "</style>\n",
       "<table border=\"1\" class=\"dataframe\">\n",
       "  <thead>\n",
       "    <tr style=\"text-align: right;\">\n",
       "      <th></th>\n",
       "      <th>riders</th>\n",
       "    </tr>\n",
       "  </thead>\n",
       "  <tbody>\n",
       "    <tr>\n",
       "      <th>1973-01-01</th>\n",
       "      <td>648000000</td>\n",
       "    </tr>\n",
       "    <tr>\n",
       "      <th>1973-02-01</th>\n",
       "      <td>646000000</td>\n",
       "    </tr>\n",
       "    <tr>\n",
       "      <th>1973-03-01</th>\n",
       "      <td>639000000</td>\n",
       "    </tr>\n",
       "    <tr>\n",
       "      <th>1973-04-01</th>\n",
       "      <td>654000000</td>\n",
       "    </tr>\n",
       "    <tr>\n",
       "      <th>1973-05-01</th>\n",
       "      <td>630000000</td>\n",
       "    </tr>\n",
       "  </tbody>\n",
       "</table>\n",
       "</div>"
      ],
      "text/plain": [
       "               riders\n",
       "1973-01-01  648000000\n",
       "1973-02-01  646000000\n",
       "1973-03-01  639000000\n",
       "1973-04-01  654000000\n",
       "1973-05-01  630000000"
      ]
     },
     "execution_count": 17,
     "metadata": {},
     "output_type": "execute_result"
    }
   ],
   "source": [
    "df['riders'] = df.riders.apply(lambda x: int(x)*100)\n",
    "df.head()"
   ]
  },
  {
   "cell_type": "code",
   "execution_count": null,
   "metadata": {},
   "outputs": [],
   "source": [
    "df.riders.plot(figsize=(12,8), title= 'Monthly Ridership', fontsize=14)\n",
    "plt.savefig('month_ridership.png', bbox_inches='tight')"
   ]
  },
  {
   "cell_type": "code",
   "execution_count": null,
   "metadata": {},
   "outputs": [],
   "source": [
    "decomposition = seasonal_decompose(df.riders, freq=12)  \n",
    "fig = plt.figure()  \n",
    "fig = decomposition.plot()  \n",
    "fig.set_size_inches(15, 8)"
   ]
  },
  {
   "cell_type": "code",
   "execution_count": null,
   "metadata": {
    "collapsed": true
   },
   "outputs": [],
   "source": [
    "from statsmodels.tsa.stattools import adfuller\n",
    "def test_stationarity(timeseries):\n",
    "    \n",
    "    #Determing rolling statistics\n",
    "    rolmean = pd.rolling_mean(timeseries, window=12)\n",
    "    rolstd = pd.rolling_std(timeseries, window=12)\n",
    "\n",
    "    #Plot rolling statistics:\n",
    "    fig = plt.figure(figsize=(12, 8))\n",
    "    orig = plt.plot(timeseries, color='blue',label='Original')\n",
    "    mean = plt.plot(rolmean, color='red', label='Rolling Mean')\n",
    "    std = plt.plot(rolstd, color='black', label = 'Rolling Std')\n",
    "    plt.legend(loc='best')\n",
    "    plt.title('Rolling Mean & Standard Deviation')\n",
    "    plt.show()\n",
    "    \n",
    "    #Perform Dickey-Fuller test:\n",
    "    print('Results of Dickey-Fuller Test:')\n",
    "    dftest = adfuller(timeseries, autolag='AIC')\n",
    "    dfoutput = pd.Series(dftest[0:4], index=['Test Statistic','p-value','#Lags Used','Number of Observations Used'])\n",
    "    for key,value in dftest[4].items():\n",
    "        dfoutput['Critical Value (%s)'%key] = value\n",
    "    print(dfoutput)"
   ]
  },
  {
   "cell_type": "code",
   "execution_count": null,
   "metadata": {},
   "outputs": [],
   "source": [
    "test_stationarity(df.riders)"
   ]
  },
  {
   "cell_type": "code",
   "execution_count": null,
   "metadata": {},
   "outputs": [],
   "source": [
    "df.riders_log= df.riders.apply(lambda x: np.log(x))  \n",
    "test_stationarity(df.riders_log)"
   ]
  },
  {
   "cell_type": "code",
   "execution_count": null,
   "metadata": {},
   "outputs": [],
   "source": [
    "df['first_difference'] = df.riders - df.riders.shift(1)  \n",
    "test_stationarity(df.first_difference.dropna(inplace=False))"
   ]
  },
  {
   "cell_type": "code",
   "execution_count": null,
   "metadata": {},
   "outputs": [],
   "source": [
    "df['log_first_difference'] = df.riders_log - df.riders_log.shift(1)  \n",
    "test_stationarity(df.log_first_difference.dropna(inplace=False))"
   ]
  },
  {
   "cell_type": "code",
   "execution_count": null,
   "metadata": {},
   "outputs": [],
   "source": [
    "df['seasonal_difference'] = df.riders - df.riders.shift(12)  \n",
    "test_stationarity(df.seasonal_difference.dropna(inplace=False))"
   ]
  },
  {
   "cell_type": "code",
   "execution_count": null,
   "metadata": {},
   "outputs": [],
   "source": [
    "df['log_seasonal_difference'] = df.riders_log - df.riders_log.shift(12)  \n",
    "test_stationarity(df.log_seasonal_difference.dropna(inplace=False))"
   ]
  },
  {
   "cell_type": "code",
   "execution_count": null,
   "metadata": {
    "scrolled": false
   },
   "outputs": [],
   "source": [
    "df['seasonal_first_difference'] = df.first_difference - df.first_difference.shift(12)  \n",
    "test_stationarity(df.seasonal_first_difference.dropna(inplace=False))"
   ]
  },
  {
   "cell_type": "code",
   "execution_count": null,
   "metadata": {},
   "outputs": [],
   "source": [
    "df['log_seasonal_first_difference'] = df.log_first_difference - df.log_first_difference.shift(12)  \n",
    "test_stationarity(df.log_seasonal_first_difference.dropna(inplace=False))"
   ]
  },
  {
   "cell_type": "code",
   "execution_count": null,
   "metadata": {},
   "outputs": [],
   "source": [
    "fig = plt.figure(figsize=(12,8))\n",
    "ax1 = fig.add_subplot(211)\n",
    "fig = sm.graphics.tsa.plot_acf(df.seasonal_first_difference.iloc[13:], lags=40, ax=ax1)\n",
    "ax2 = fig.add_subplot(212)\n",
    "fig = sm.graphics.tsa.plot_pacf(df.seasonal_first_difference.iloc[13:], lags=40, ax=ax2)"
   ]
  },
  {
   "cell_type": "code",
   "execution_count": null,
   "metadata": {
    "scrolled": true
   },
   "outputs": [],
   "source": [
    "mod = sm.tsa.statespace.SARIMAX(df.riders, trend='n', order=(0,1,0), seasonal_order=(0,1,1,12))\n",
    "results = mod.fit()\n",
    "print(results.summary())"
   ]
  },
  {
   "cell_type": "code",
   "execution_count": null,
   "metadata": {},
   "outputs": [],
   "source": [
    "mod = sm.tsa.statespace.SARIMAX(df.riders, trend='n', order=(0,1,0), seasonal_order=(1,1,1,12))\n",
    "results = mod.fit()\n",
    "print(results.summary())"
   ]
  },
  {
   "cell_type": "code",
   "execution_count": null,
   "metadata": {},
   "outputs": [],
   "source": [
    "df['forecast'] = results.predict(start = 102, end= 114, dynamic= True)  \n",
    "df[['riders', 'forecast']].plot(figsize=(12, 8)) \n",
    "plt.savefig('ts_df_predict.png', bbox_inches='tight')"
   ]
  },
  {
   "cell_type": "code",
   "execution_count": null,
   "metadata": {
    "scrolled": true
   },
   "outputs": [],
   "source": [
    "npredict =df.riders['1982'].shape[0]\n",
    "fig, ax = plt.subplots(figsize=(12,6))\n",
    "npre = 12\n",
    "ax.set(title='Ridership', xlabel='Date', ylabel='Riders')\n",
    "ax.plot(df.index[-npredict-npre+1:], df.ix[-npredict-npre+1:, 'riders'], 'o', label='Observed')\n",
    "ax.plot(df.index[-npredict-npre+1:], df.ix[-npredict-npre+1:, 'forecast'], 'g', label='Dynamic forecast')\n",
    "legend = ax.legend(loc='lower right')\n",
    "legend.get_frame().set_facecolor('w')\n",
    "plt.savefig('ts_predict_compare.png', bbox_inches='tight')"
   ]
  },
  {
   "cell_type": "code",
   "execution_count": null,
   "metadata": {
    "collapsed": true
   },
   "outputs": [],
   "source": [
    "start = datetime.datetime.strptime(\"1982-07-01\", \"%Y-%m-%d\")\n",
    "date_list = [start + relativedelta(months=x) for x in range(0,12)]\n",
    "future = pd.DataFrame(index=date_list, columns= df.columns)\n",
    "df = pd.concat([df, future])"
   ]
  },
  {
   "cell_type": "code",
   "execution_count": null,
   "metadata": {},
   "outputs": [],
   "source": [
    "df['forecast'] = results.predict(start = 114, end = 125, dynamic= True)  \n",
    "df[['riders', 'forecast']].ix[-24:].plot(figsize=(12, 8)) \n",
    "plt.savefig('ts_predict_future.png', bbox_inches='tight')"
   ]
  },
  {
   "cell_type": "code",
   "execution_count": null,
   "metadata": {},
   "outputs": [],
   "source": [
    "## A little extra I was doing to try and include an exogenous variable for number of weekdays in each month.\n",
    "## Thinking that people take public transportation more during the week, a count of weekdays \n",
    "## in each month could help explain some of the variance.  \n",
    "\n",
    "start = datetime.datetime.strptime(\"1973-01-01\", \"%Y-%m-%d\")\n",
    "moving = start\n",
    "d = {}\n",
    "year =0\n",
    "month =0\n",
    "while moving < datetime.datetime(1982,7,1):\n",
    "#     print moving\n",
    "    if moving.year == year:\n",
    "        if moving.month == month:\n",
    "            if moving.weekday() < 5:\n",
    "                d[str(moving.year)+\"-\"+ str(moving.month)] += 1\n",
    "        else:\n",
    "            d[str(moving.year)+\"-\"+ str(moving.month)]=0\n",
    "            if moving.weekday() < 5:\n",
    "                d[str(moving.year)+\"-\"+ str(moving.month)] += 1\n",
    "    else:\n",
    "#         d[moving.year] = {}\n",
    "        d[str(moving.year)+\"-\"+ str(moving.month)]=0\n",
    "        if moving.weekday() < 5:\n",
    "            d[str(moving.year)+\"-\"+ str(moving.month)] += 1\n",
    "\n",
    "\n",
    "    year = moving.year\n",
    "    month = moving.month\n",
    "    moving += datetime.timedelta(days=1)\n",
    "df_dow = pd.DataFrame(d.items(), columns=['Month', 'DateValue'])\n",
    "df_dow.Month = pd.to_datetime(df_dow.Month)\n",
    "df_dow.sort('Month', inplace=True)\n",
    "\n",
    "def holiday_adj(x):\n",
    "    if x['Month'].month==1:\n",
    "        x['DateValue'] -=1\n",
    "        return x['DateValue'] \n",
    "    elif x['Month'].month==2:\n",
    "        x['DateValue'] -=1\n",
    "        return x['DateValue']\n",
    "    elif x['Month'].month==5:\n",
    "        x['DateValue'] -=1\n",
    "        return x['DateValue']\n",
    "    elif x['Month'].month==7:\n",
    "        x['DateValue'] -=1\n",
    "        return x['DateValue']\n",
    "    elif x['Month'].month==9:\n",
    "        x['DateValue'] -=1\n",
    "        return x['DateValue']\n",
    "    elif x['Month'].month==10:\n",
    "        x['DateValue'] -=1\n",
    "        return x['DateValue']    \n",
    "    elif x['Month'].month==11:\n",
    "        x['DateValue'] -=3   \n",
    "        return x['DateValue']\n",
    "    elif x['Month'].month==12:\n",
    "        x['DateValue'] -=2\n",
    "        return x['DateValue']\n",
    "\n",
    "    else:\n",
    "        return x['DateValue']\n",
    "    \n",
    "df_dow['days'] = df_dow.apply(holiday_adj, axis=1)\n",
    "df_dow.set_index('Month', inplace=True)\n",
    "df_dow.index.name = None"
   ]
  },
  {
   "cell_type": "code",
   "execution_count": null,
   "metadata": {
    "collapsed": true
   },
   "outputs": [],
   "source": []
  }
 ],
 "metadata": {
  "kernelspec": {
   "display_name": "Python [default]",
   "language": "python",
   "name": "python3"
  },
  "language_info": {
   "codemirror_mode": {
    "name": "ipython",
    "version": 3
   },
   "file_extension": ".py",
   "mimetype": "text/x-python",
   "name": "python",
   "nbconvert_exporter": "python",
   "pygments_lexer": "ipython3",
   "version": "3.5.2"
  }
 },
 "nbformat": 4,
 "nbformat_minor": 1
}
