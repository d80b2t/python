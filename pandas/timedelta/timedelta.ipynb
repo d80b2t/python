{
 "cells": [
  {
   "cell_type": "markdown",
   "metadata": {},
   "source": [
    "The `Timedelta` object is relatively new to pandas. Recently I worked with Timedeltas but found it wasn't obvious how to do what I wanted. Worse, some operations were seemingly obvious but could easily return the [wrong answer](#Beware-of-overflow!) (update: this issue was fixed in pandas version 0.17.0). Here I go through a few `Timedelta` examples to provide a companion reference to the [official documentation](http://pandas.pydata.org/pandas-docs/dev/timedeltas.html).\n",
    "\n",
    "[IPython notebook for this post](https://github.com/frankcleary/data-science-bytes/blob/master/content/timedelta.ipynb)"
   ]
  },
  {
   "cell_type": "markdown",
   "metadata": {},
   "source": [
    "## The Data\n",
    "I got data on Old Faithful eruptions from [here](http://www.geyserstudy.org/geyser.aspx?pGeyserNo=OLDFAITHFUL) to serve as interesting Timedeltas (credit to Yellowstone National Park and Ralph Taylor). See the shell commands below for how I downloaded and cleaned the files ([resulting file](/data/old_faithful_data.csv)).\n",
    "\n",
    "```shell\n",
    "wget http://www.geyserstudy.org/geysers/OLDFAITHFUL/eruptions/Old%20Faithful%20eruptions%20for%20200{0..9}.TXT\n",
    "wget http://www.geyserstudy.org/geysers/OLDFAITHFUL/eruptions/Old%20Faithful%20eruptions%20for%2020{10..11}.TXT\n",
    "# remove file headers by finding lines that begin with two numbers and a slash\n",
    "grep -h '^\\d\\{2\\}/' Old\\ Faithful\\ eruptions\\ for\\ 20* > old_faithful_data.csv\n",
    "```"
   ]
  },
  {
   "cell_type": "code",
   "execution_count": 1,
   "metadata": {
    "collapsed": false
   },
   "outputs": [],
   "source": [
    "import pandas as pd\n",
    "import numpy as np\n",
    "import matplotlib\n",
    "import matplotlib.pyplot as plt\n",
    "%matplotlib inline\n",
    "matplotlib.style.use('ggplot')"
   ]
  },
  {
   "cell_type": "markdown",
   "metadata": {},
   "source": [
    "The data has two columns: the date and time of the observed eruption and the elapsed time since the last eruption."
   ]
  },
  {
   "cell_type": "code",
   "execution_count": 2,
   "metadata": {
    "collapsed": false
   },
   "outputs": [
    {
     "data": {
      "text/html": [
       "<div style=\"max-height:1000px;max-width:1500px;overflow:auto;\">\n",
       "<table border=\"1\" class=\"dataframe\">\n",
       "  <thead>\n",
       "    <tr style=\"text-align: right;\">\n",
       "      <th></th>\n",
       "      <th>date</th>\n",
       "      <th>elapsed_time</th>\n",
       "    </tr>\n",
       "  </thead>\n",
       "  <tbody>\n",
       "    <tr>\n",
       "      <th>0</th>\n",
       "      <td> 10/11/00 13:56:55</td>\n",
       "      <td>   0:00:00</td>\n",
       "    </tr>\n",
       "    <tr>\n",
       "      <th>1</th>\n",
       "      <td> 10/11/00 15:17:55</td>\n",
       "      <td>   1:21:00</td>\n",
       "    </tr>\n",
       "    <tr>\n",
       "      <th>2</th>\n",
       "      <td> 10/11/00 16:40:55</td>\n",
       "      <td>   1:23:00</td>\n",
       "    </tr>\n",
       "  </tbody>\n",
       "</table>\n",
       "</div>"
      ],
      "text/plain": [
       "                date elapsed_time\n",
       "0  10/11/00 13:56:55      0:00:00\n",
       "1  10/11/00 15:17:55      1:21:00\n",
       "2  10/11/00 16:40:55      1:23:00"
      ]
     },
     "execution_count": 2,
     "metadata": {},
     "output_type": "execute_result"
    }
   ],
   "source": [
    "old_faithful_data = pd.read_csv('data/old_faithful_data.csv', header=None,\n",
    "                               names=['date', 'elapsed_time'])\n",
    "old_faithful_data.head(3)"
   ]
  },
  {
   "cell_type": "markdown",
   "metadata": {},
   "source": [
    "## Summary statistics\n",
    "Here I calculate the time between eruptions from the observed time directly."
   ]
  },
  {
   "cell_type": "code",
   "execution_count": 3,
   "metadata": {
    "collapsed": false
   },
   "outputs": [
    {
     "data": {
      "text/plain": [
       "count                     58514\n",
       "mean     0 days 01:37:28.132634\n",
       "std      0 days 10:28:02.853149\n",
       "min             0 days 00:00:00\n",
       "25%             0 days 01:28:00\n",
       "50%             0 days 01:32:00\n",
       "75%             0 days 01:36:00\n",
       "max            79 days 00:12:00\n",
       "Name: date, dtype: object"
      ]
     },
     "execution_count": 3,
     "metadata": {},
     "output_type": "execute_result"
    }
   ],
   "source": [
    "eruption_times = pd.to_datetime(old_faithful_data['date'].str.strip(), \n",
    "                                format='%m/%d/%y %H:%M:%S')\n",
    "eruption_deltas = eruption_times.diff()\n",
    "eruption_deltas.describe()"
   ]
  },
  {
   "cell_type": "markdown",
   "metadata": {
    "collapsed": false
   },
   "source": [
    "## Filtering Timedeltas\n",
    "It looks like there might be some bad data: the longest record is over 79 days. For the rest of the analysis I'll filter out everything longer than 3 hours. Although some of these long events may be significant they clearly don't represent the usual behavior. It's always important to look at more than just the mean of a dataset like this since a few outliers can have a large effect on its value."
   ]
  },
  {
   "cell_type": "code",
   "execution_count": 4,
   "metadata": {
    "collapsed": false
   },
   "outputs": [
    {
     "data": {
      "text/plain": [
       "count                     58492\n",
       "mean     0 days 01:31:31.356698\n",
       "std      0 days 00:08:37.076579\n",
       "min             0 days 00:00:00\n",
       "25%             0 days 01:28:00\n",
       "50%             0 days 01:32:00\n",
       "75%             0 days 01:36:00\n",
       "max             0 days 02:45:00\n",
       "Name: date, dtype: object"
      ]
     },
     "execution_count": 4,
     "metadata": {},
     "output_type": "execute_result"
    }
   ],
   "source": [
    "eruption_deltas = eruption_deltas[eruption_deltas < pd.Timedelta(hours=3)].dropna()\n",
    "eruption_deltas.describe()"
   ]
  },
  {
   "cell_type": "markdown",
   "metadata": {},
   "source": [
    "## Histograms of Timedeltas\n",
    "The summary table above is nice, but I'd like to visualize the data in a histogram. Unfortunately a simple `eruption_deltas.hist()` call produces a `TypeError`. Luckily there is a simple way to produce a histogram by converting the type of the series (what the documentation calls [frequency conversion](http://pandas.pydata.org/pandas-docs/stable/timedeltas.html#frequency-conversion)) and making a histogram of the result. Below I show two different conversion methods:\n",
    "\n",
    "1. Using `.astype()` and supplying a string argument of the form 'timedelta64[unit]' where unit can be 's' for seconds, 'h' for hours, 'D' for days, etc. Any decimal part of the result will be discarded (floor division).\n",
    "1. Dividing by a `Timedelta`. Any `Timedelta` value will work, so if you want to find out how many times you could have listened to <a href=\"http://en.wikipedia.org/wiki/Piano_Man_(song)\">Piano Man</a> just run `my_timedelta_series / pd.Timedelta(minutes=5, seconds=38)`."
   ]
  },
  {
   "cell_type": "code",
   "execution_count": 5,
   "metadata": {
    "collapsed": false
   },
   "outputs": [
    {
     "name": "stdout",
     "output_type": "stream",
     "text": [
      "Data as Timedelta:\n",
      "1   01:21:00\n",
      "2   01:23:00\n",
      "3   01:29:00\n",
      "Name: date, dtype: timedelta64[ns]\n",
      "\n",
      "Data converted to the floor of the total hours (astype()):\n",
      "1    1\n",
      "2    1\n",
      "3    1\n",
      "Name: date, dtype: float64\n",
      "\n",
      "Data converted to total hours (/):\n",
      "1    1.350000\n",
      "2    1.383333\n",
      "3    1.483333\n",
      "Name: date, dtype: float64\n",
      "\n",
      "Number of times you could listen to Piano Man between eruptions:\n",
      "1    14.336283\n",
      "2    14.690265\n",
      "3    15.752212\n",
      "Name: date, dtype: float64\n"
     ]
    }
   ],
   "source": [
    "print \"Data as Timedelta:\"\n",
    "print eruption_deltas.head(3)\n",
    "print \"\"\n",
    "print \"Data converted to the floor of the total hours (astype()):\"\n",
    "print (eruption_deltas.astype('timedelta64[h]')).head(3)\n",
    "print \"\"\n",
    "print \"Data converted to total hours (/):\"\n",
    "print (eruption_deltas / pd.Timedelta(hours=1)).head(3)\n",
    "print \"\"\n",
    "print \"Number of times you could listen to Piano Man between eruptions:\"\n",
    "print (eruption_deltas / pd.Timedelta(minutes=5, seconds=39)).head(3)"
   ]
  },
  {
   "cell_type": "code",
   "execution_count": 6,
   "metadata": {
    "collapsed": false
   },
   "outputs": [
    {
     "data": {
      "image/png": "[encoded data removed]",
      "text/plain": [
       "<matplotlib.figure.Figure at 0x107880490>"
      ]
     },
     "metadata": {},
     "output_type": "display_data"
    }
   ],
   "source": [
    "(eruption_deltas / pd.Timedelta(minutes=1)).hist(bins=xrange(50, 120, 1))\n",
    "plt.xlabel('Time between eruptions (min)')\n",
    "plt.ylabel('# of eruptions');"
   ]
  },
  {
   "cell_type": "markdown",
   "metadata": {},
   "source": [
    "## Beware of overflow! (update: fixed in 0.17.0)\n",
    "\n",
    "**The overflow issue discussed below was fixed in pandas version 0.17.0**\n",
    "\n",
    "Timedeltas are stored under the hood with nanosecond precision as 64-bit integers. It turns out it is relatively easy to run into overflow issues, possibly without noticing (see more discussion [here](https://github.com/pydata/pandas/issues/9442)).\n",
    "\n",
    "For example, let's look at the average time between days for the first 2,015 years of the common era (ignoring corrections for leap years):"
   ]
  },
  {
   "cell_type": "code",
   "execution_count": 7,
   "metadata": {
    "collapsed": false
   },
   "outputs": [
    {
     "data": {
      "text/plain": [
       "Timedelta('0 days 03:05:55.794253')"
      ]
     },
     "execution_count": 7,
     "metadata": {},
     "output_type": "execute_result"
    }
   ],
   "source": [
    "common_era = pd.Series([pd.Timedelta(days=1)] * 2015 * 365)\n",
    "common_era.mean()"
   ]
  },
  {
   "cell_type": "markdown",
   "metadata": {},
   "source": [
    "The average time between days comes out to about **3 hours and 6 minutes**. My how time flies!\n",
    "\n",
    "Here's what's happening... One day is 8.64E13 nanoseconds:"
   ]
  },
  {
   "cell_type": "code",
   "execution_count": 8,
   "metadata": {
    "collapsed": false
   },
   "outputs": [
    {
     "name": "stdout",
     "output_type": "stream",
     "text": [
      "86,400,000,000,000\n"
     ]
    }
   ],
   "source": [
    "day_delta = pd.Timedelta(days=1)\n",
    "print \"{:,}\".format(day_delta.value)"
   ]
  },
  {
   "cell_type": "markdown",
   "metadata": {},
   "source": [
    "A signed 64-bit integer can hold only 106,751 of these day-long Timedeltas:"
   ]
  },
  {
   "cell_type": "code",
   "execution_count": 9,
   "metadata": {
    "collapsed": false
   },
   "outputs": [
    {
     "data": {
      "text/plain": [
       "106751L"
      ]
     },
     "execution_count": 9,
     "metadata": {},
     "output_type": "execute_result"
    }
   ],
   "source": [
    "(2**63 - 1) / day_delta.value"
   ]
  },
  {
   "cell_type": "markdown",
   "metadata": {},
   "source": [
    "Calculation of the mean works fine for 106,751 days, but overflow occurs if we add one more:"
   ]
  },
  {
   "cell_type": "code",
   "execution_count": 10,
   "metadata": {
    "collapsed": false
   },
   "outputs": [
    {
     "name": "stdout",
     "output_type": "stream",
     "text": [
      "Mean time between the last 106,751 days: 1 days 00:00:00\n",
      "Mean time between the last 106,752 days: -1 days +00:00:00.014297\n"
     ]
    }
   ],
   "source": [
    "all_good_num_days = 106751\n",
    "overflow_num_days = all_good_num_days + 1\n",
    "all_good = pd.Series([pd.Timedelta(days=1)] * all_good_num_days)\n",
    "print 'Mean time between the last {:,} days: {}'.format(all_good_num_days, all_good.mean())\n",
    "overflow = pd.Series([pd.Timedelta(days=1)] * overflow_num_days)\n",
    "print 'Mean time between the last {:,} days: {}'.format(overflow_num_days, overflow.mean())"
   ]
  },
  {
   "cell_type": "markdown",
   "metadata": {
    "collapsed": false
   },
   "source": [
    "This can be overcome by converting the data to a lower precision, performing the operation you need, then creating a `Timedelta` from the result:"
   ]
  },
  {
   "cell_type": "code",
   "execution_count": 11,
   "metadata": {
    "collapsed": false
   },
   "outputs": [
    {
     "data": {
      "text/plain": [
       "Timedelta('1 days 00:00:00')"
      ]
     },
     "execution_count": 11,
     "metadata": {},
     "output_type": "execute_result"
    }
   ],
   "source": [
    "data_as_microseconds = overflow / pd.Timedelta(microseconds=1)\n",
    "pd.Timedelta(data_as_microseconds.mean(), unit='us')"
   ]
  },
  {
   "cell_type": "markdown",
   "metadata": {},
   "source": [
    " "
   ]
  }
 ],
 "metadata": {
  "kernelspec": {
   "display_name": "Python 3",
   "language": "python",
   "name": "python2"
  },
  "language_info": {
   "codemirror_mode": {
    "name": "ipython",
    "version": 3
   },
   "file_extension": ".py",
   "mimetype": "text/x-python",
   "name": "python",
   "nbconvert_exporter": "python",
   "pygments_lexer": "ipython2",
   "version": "3.5.2"
  }
 },
 "nbformat": 4,
 "nbformat_minor": 0
}