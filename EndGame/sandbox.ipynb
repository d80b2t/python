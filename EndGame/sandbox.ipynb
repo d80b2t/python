{
 "cells": [
  {
   "cell_type": "markdown",
   "metadata": {},
   "source": [
    "https://www.endgame.com/blog/technical-blog/time-series-analysis-network-security"
   ]
  },
  {
   "cell_type": "code",
   "execution_count": 3,
   "metadata": {},
   "outputs": [
    {
     "name": "stderr",
     "output_type": "stream",
     "text": [
      "/Users/npr1/astroconda/lib/python3.5/site-packages/kairos/timeseries.py:1048: UserWarning: Redis backend not loaded, No module named 'urlparse'\n",
      "  warnings.warn('Redis backend not loaded, {}'.format(e))\n",
      "/Users/npr1/astroconda/lib/python3.5/site-packages/kairos/timeseries.py:1054: UserWarning: Mongo backend not loaded, No module named 'pymongo'\n",
      "  warnings.warn('Mongo backend not loaded, {}'.format(e))\n",
      "/Users/npr1/astroconda/lib/python3.5/site-packages/kairos/timeseries.py:1060: UserWarning: SQL backend not loaded, No module named 'urlparse'\n",
      "  warnings.warn('SQL backend not loaded, {}'.format(e))\n",
      "/Users/npr1/astroconda/lib/python3.5/site-packages/kairos/timeseries.py:1066: UserWarning: Cassandra backend not loaded, No module named 'cql'\n",
      "  warnings.warn('Cassandra backend not loaded, {}'.format(e))\n"
     ]
    }
   ],
   "source": [
    "# Make a connection to our kairos database\n",
    "from redis import Redis\n",
    "from kairos import Timeseries\n",
    "intervals = {\"days\" : {\"step\" : 60, \"steps\" : 2880},\n",
    "             \"months\" : {\"step\" : 1800, \"steps\" : 4032}}\n"
   ]
  },
  {
   "cell_type": "code",
   "execution_count": 6,
   "metadata": {},
   "outputs": [
    {
     "ename": "SyntaxError",
     "evalue": "EOL while scanning string literal (<ipython-input-6-389f3c092c41>, line 2)",
     "output_type": "error",
     "traceback": [
      "\u001b[0;36m  File \u001b[0;32m\"<ipython-input-6-389f3c092c41>\"\u001b[0;36m, line \u001b[0;32m2\u001b[0m\n\u001b[0;31m    ktseries = Timeseries(rclient, type=\"histogram”, intervals=intervals)\u001b[0m\n\u001b[0m                                                                         ^\u001b[0m\n\u001b[0;31mSyntaxError\u001b[0m\u001b[0;31m:\u001b[0m EOL while scanning string literal\n"
     ]
    }
   ],
   "source": [
    "rclient = Redis(\"localhost\", 6379)\n",
    "ktseries = Timeseries(rclient, type=\"histogram”, intervals=intervals)\n",
    "\n",
    "# Read data from our kairos database\n",
    "from pandas import DataFrame, to_datetime\n",
    "series = ktseries.series(metric_name, “months”)\n",
    "ts, fields = zip(*series.items())\n",
    "df = DataFrame({\"data” : fields}, index=to_datetime(ts, unit=\"s\"))"
   ]
  },
  {
   "cell_type": "code",
   "execution_count": null,
   "metadata": {
    "collapsed": true
   },
   "outputs": [],
   "source": []
  }
 ],
 "metadata": {
  "anaconda-cloud": {},
  "kernelspec": {
   "display_name": "Python [default]",
   "language": "python",
   "name": "python3"
  },
  "language_info": {
   "codemirror_mode": {
    "name": "ipython",
    "version": 3
   },
   "file_extension": ".py",
   "mimetype": "text/x-python",
   "name": "python",
   "nbconvert_exporter": "python",
   "pygments_lexer": "ipython3",
   "version": "3.5.2"
  }
 },
 "nbformat": 4,
 "nbformat_minor": 2
}
